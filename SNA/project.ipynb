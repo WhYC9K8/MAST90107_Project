{
 "cells": [
  {
   "cell_type": "markdown",
   "metadata": {},
   "source": [
    "## 1. Data Preprocessing"
   ]
  },
  {
   "cell_type": "markdown",
   "metadata": {},
   "source": [
    "### 1.1 Importing Data"
   ]
  },
  {
   "cell_type": "code",
   "execution_count": 20,
   "metadata": {},
   "outputs": [],
   "source": [
    "import pandas as pd\n",
    "import matplotlib.pyplot as plt\n"
   ]
  },
  {
   "cell_type": "code",
   "execution_count": 10,
   "metadata": {},
   "outputs": [],
   "source": [
    "def import_csv(file_path):\n",
    "    \"\"\"Import a CSV file and return a pandas DataFrame.\"\"\"\n",
    "    df = pd.read_csv(file_path)\n",
    "    return df"
   ]
  },
  {
   "cell_type": "code",
   "execution_count": 8,
   "metadata": {},
   "outputs": [
    {
     "name": "stdout",
     "output_type": "stream",
     "text": [
      "There are 7 unique years: [2022 2021 2023 2024 2020 2019 2018]\n",
      "Year 2022 has 125110 rows\n",
      "Year 2021 has 107232 rows\n",
      "Year 2023 has 143129 rows\n",
      "Year 2024 has 51388 rows\n",
      "Year 2020 has 89780 rows\n",
      "Year 2019 has 71174 rows\n",
      "Year 2018 has 13695 rows\n"
     ]
    }
   ],
   "source": [
    "def import_csv_and_split_by_year(file_path):\n",
    "    \"\"\"Import a CSV file, split it by year and return a dictionary of DataFrames.\"\"\"\n",
    "    df = pd.read_csv(file_path, dtype=str)\n",
    "    df['Reporting Date'] = pd.to_datetime(df['Reporting Date'], format='%d-%b-%y')\n",
    "    df['year'] = df['Reporting Date'].dt.year\n",
    "\n",
    "    years = df['year'].unique()\n",
    "    print(f'There are {len(years)} unique years: {years}')\n",
    "\n",
    "    for year in years:\n",
    "        globals()[f'df_{year}'] = df[df['year'] == year]\n",
    "        print(f'Year {year} has {len(globals()[f\"df_{year}\"])} rows')\n",
    "\n",
    "import_csv_and_split_by_year(\"Job_History.csv\")"
   ]
  },
  {
   "cell_type": "code",
   "execution_count": 17,
   "metadata": {},
   "outputs": [
    {
     "name": "stdout",
     "output_type": "stream",
     "text": [
      "       Reporting Date Person ID Employee Status Employee Class  \\\n",
      "601498     2024-04-01    128214          Active      Workforce   \n",
      "601499     2024-04-01    128227          Active      Workforce   \n",
      "601500     2024-04-01    128228          Active      Workforce   \n",
      "601501     2024-04-01    128242          Active      Workforce   \n",
      "601502     2024-04-01    128243          Active      Workforce   \n",
      "601503     2024-04-01    128247          Active      Workforce   \n",
      "601504     2024-04-01    128255          Active      Workforce   \n",
      "601505     2024-04-01    128256          Active      Workforce   \n",
      "601506     2024-04-01    128263          Active      Workforce   \n",
      "601507     2024-04-01    128297          Active      Workforce   \n",
      "\n",
      "           Employment Type Company (externalCode)   Company (Label)  \\\n",
      "601498  Full-Time Employee                    400  John Holland P/L   \n",
      "601499  Full-Time Employee                    400  John Holland P/L   \n",
      "601500  Full-Time Employee                    400  John Holland P/L   \n",
      "601501  Full-Time Employee                    400  John Holland P/L   \n",
      "601502  Full-Time Employee                    400  John Holland P/L   \n",
      "601503  Full-Time Employee                    400  John Holland P/L   \n",
      "601504  Full-Time Employee                    400  John Holland P/L   \n",
      "601505  Full-Time Employee                    400  John Holland P/L   \n",
      "601506  Full-Time Employee                    400  John Holland P/L   \n",
      "601507  Full-Time Employee                    400  John Holland P/L   \n",
      "\n",
      "       Division (Code)          Division Subdivision (Code)  ... Placements  \\\n",
      "601498             MAP    Major Projects             MAPPRS  ...        NaN   \n",
      "601499            INFR    Infrastructure            INFRPRN  ...        NaN   \n",
      "601500            INFR    Infrastructure            INFRPRN  ...        NaN   \n",
      "601501             MAP    Major Projects             MAPPRS  ...        NaN   \n",
      "601502             BUI    Building Group               BUPR  ...        NaN   \n",
      "601503             MAP    Major Projects             MAPPRS  ...        NaN   \n",
      "601504             MAP    Major Projects             MAPPRS  ...        NaN   \n",
      "601505             MAP    Major Projects             MAPPRS  ...        NaN   \n",
      "601506             RAL  Rail & Transport              PLANT  ...        NaN   \n",
      "601507            INFR    Infrastructure            INFRPRN  ...        NaN   \n",
      "\n",
      "                    BU Tenure (Group - Hire Date) Manager/No Manager  \\\n",
      "601498  Major Projects             Less than 1 yr        Non Manager   \n",
      "601499  Infrastructure             Less than 1 yr        Non Manager   \n",
      "601500  Infrastructure             Less than 1 yr        Non Manager   \n",
      "601501  Major Projects             Less than 1 yr        Non Manager   \n",
      "601502        Building             Less than 1 yr        Non Manager   \n",
      "601503  Major Projects             Less than 1 yr        Non Manager   \n",
      "601504  Major Projects             Less than 1 yr        Non Manager   \n",
      "601505  Major Projects             Less than 1 yr        Non Manager   \n",
      "601506            Rail             Less than 1 yr        Non Manager   \n",
      "601507  Infrastructure             Less than 1 yr        Non Manager   \n",
      "\n",
      "       Critical / Core Generation Diversity Question Job Level  \\\n",
      "601498       Workforce  Millenial                NaN         0   \n",
      "601499       Workforce      Gen X                NaN         0   \n",
      "601500       Workforce      Gen Z                  4         0   \n",
      "601501       Workforce  Millenial                NaN         0   \n",
      "601502       Workforce      Gen X                NaN         0   \n",
      "601503       Workforce      Gen Z                NaN         0   \n",
      "601504       Workforce      Gen Z                NaN         0   \n",
      "601505       Workforce      Gen X                NaN         0   \n",
      "601506       Workforce      Gen Z                NaN         0   \n",
      "601507       Workforce  Millenial                NaN         0   \n",
      "\n",
      "       Department (PM)  year  \n",
      "601498         No Move  2024  \n",
      "601499         No Move  2024  \n",
      "601500         No Move  2024  \n",
      "601501         No Move  2024  \n",
      "601502         No Move  2024  \n",
      "601503         No Move  2024  \n",
      "601504         No Move  2024  \n",
      "601505         No Move  2024  \n",
      "601506         No Move  2024  \n",
      "601507         No Move  2024  \n",
      "\n",
      "[10 rows x 40 columns]\n"
     ]
    }
   ],
   "source": [
    "print(df_2024.tail(10))"
   ]
  },
  {
   "cell_type": "code",
   "execution_count": 39,
   "metadata": {},
   "outputs": [
    {
     "name": "stdout",
     "output_type": "stream",
     "text": [
      "<class 'pandas.core.frame.DataFrame'>\n",
      "Index: 51388 entries, 8341 to 601507\n",
      "Data columns (total 40 columns):\n",
      " #   Column                                 Non-Null Count  Dtype         \n",
      "---  ------                                 --------------  -----         \n",
      " 0   Reporting Date                         51388 non-null  datetime64[ns]\n",
      " 1   Person ID                              51388 non-null  object        \n",
      " 2   Employee Status                        51388 non-null  object        \n",
      " 3   Employee Class                         51388 non-null  object        \n",
      " 4   Employment Type                        51388 non-null  object        \n",
      " 5   Company (externalCode)                 51388 non-null  object        \n",
      " 6   Company (Label)                        51388 non-null  object        \n",
      " 7   Division (Code)                        51388 non-null  object        \n",
      " 8   Division                               51388 non-null  object        \n",
      " 9   Subdivision (Code)                     51388 non-null  object        \n",
      " 10  Subdivision (Label)                    51388 non-null  object        \n",
      " 11  Department (Code)                      51388 non-null  object        \n",
      " 12  Department                             51388 non-null  object        \n",
      " 13  JH Job Family (externalCode)           51388 non-null  object        \n",
      " 14  JH Job Family                          51388 non-null  object        \n",
      " 15  JH Position Title (externalCode)       51388 non-null  object        \n",
      " 16  JH Position Title                      51388 non-null  object        \n",
      " 17  External Title                         51388 non-null  object        \n",
      " 18  Original Start Date                    51388 non-null  object        \n",
      " 19  Hire Date                              51388 non-null  object        \n",
      " 20  Last Day of Service                    27968 non-null  object        \n",
      " 21  Sub Termination Reason (externalCode)  28890 non-null  object        \n",
      " 22  Sub Termination Reason (Label)         28890 non-null  object        \n",
      " 23  Location Group (Name)                  51388 non-null  object        \n",
      " 24  RCM City                               51388 non-null  object        \n",
      " 25  RCM State (externalName)               51388 non-null  object        \n",
      " 26  RCM Country (Picklist Label)           51388 non-null  object        \n",
      " 27  Gender                                 50906 non-null  object        \n",
      " 28  Age (Group)                            51388 non-null  object        \n",
      " 29  Proj / OH                              51370 non-null  object        \n",
      " 30  Placements                             901 non-null    object        \n",
      " 31  BU                                     51388 non-null  object        \n",
      " 32  Tenure (Group - Hire Date)             51388 non-null  object        \n",
      " 33  Manager/No Manager                     51388 non-null  object        \n",
      " 34  Critical / Core                        51388 non-null  object        \n",
      " 35  Generation                             51388 non-null  object        \n",
      " 36  Diversity Question                     37839 non-null  object        \n",
      " 37  Job Level                              51388 non-null  object        \n",
      " 38  Department (PM)                        51388 non-null  object        \n",
      " 39  year                                   51388 non-null  int32         \n",
      "dtypes: datetime64[ns](1), int32(1), object(38)\n",
      "memory usage: 15.9+ MB\n",
      "None\n"
     ]
    }
   ],
   "source": [
    "print(df_2024.info())"
   ]
  },
  {
   "cell_type": "code",
   "execution_count": 28,
   "metadata": {},
   "outputs": [
    {
     "name": "stdout",
     "output_type": "stream",
     "text": [
      "Person ID\n",
      "29152     4\n",
      "113849    4\n",
      "116487    4\n",
      "117618    4\n",
      "118372    4\n",
      "         ..\n",
      "127701    1\n",
      "111588    1\n",
      "111288    1\n",
      "61397     1\n",
      "128108    1\n",
      "Name: count, Length: 12945, dtype: int64\n"
     ]
    }
   ],
   "source": [
    "print(df_2024['Person ID'].value_counts())"
   ]
  },
  {
   "cell_type": "code",
   "execution_count": 31,
   "metadata": {},
   "outputs": [
    {
     "data": {
      "image/png": "[encoded data removed]",
      "text/plain": [
       "<Figure size 1000x600 with 1 Axes>"
      ]
     },
     "metadata": {},
     "output_type": "display_data"
    }
   ],
   "source": [
    "# Calculate the counts\n",
    "counts = df_2024['Person ID'].value_counts()\n",
    "\n",
    "# Plot the histogram\n",
    "plt.figure(figsize=(10,6))\n",
    "hist = plt.hist(counts, bins=range(1, counts.max()+2), align='left', rwidth=0.8)\n",
    "\n",
    "# Add text\n",
    "for i in range(len(hist[0])):\n",
    "    plt.text(hist[1][i],hist[0][i],str(int(hist[0][i])), ha='center', va='bottom')\n",
    "\n",
    "plt.xticks(range(1, counts.max()+1)) \n",
    "plt.xlabel('Number of Occurrences')\n",
    "plt.ylabel('Number of Person IDs')\n",
    "plt.title('Distribution of Person ID Occurrences')\n",
    "plt.show()"
   ]
  },
  {
   "cell_type": "code",
   "execution_count": 41,
   "metadata": {},
   "outputs": [],
   "source": [
    "# Ensure 'Reporting Date' is datetime type\n",
    "df_2024['Reporting Date'] = pd.to_datetime(df_2024['Reporting Date'])\n",
    "\n",
    "# Filter rows\n",
    "active_2024 = df_2024[(df_2024['Reporting Date'] == '2024-04-01') & (df_2024['Employee Status'] == 'Active')]"
   ]
  },
  {
   "cell_type": "code",
   "execution_count": 42,
   "metadata": {},
   "outputs": [
    {
     "name": "stdout",
     "output_type": "stream",
     "text": [
      "       Reporting Date Person ID Employee Status Employee Class  \\\n",
      "588574     2024-04-01     10390          Active          Staff   \n",
      "588575     2024-04-01     10833          Active          Staff   \n",
      "588577     2024-04-01     11586          Active          Staff   \n",
      "588578     2024-04-01     11587          Active          Staff   \n",
      "588580     2024-04-01     12182          Active          Staff   \n",
      "\n",
      "           Employment Type Company (externalCode)     Company (Label)  \\\n",
      "588574  Full-Time Employee                    100  John Holland Group   \n",
      "588575  Full-Time Employee                    100  John Holland Group   \n",
      "588577  Full-Time Employee                    100  John Holland Group   \n",
      "588578  Full-Time Employee                    100  John Holland Group   \n",
      "588580  Full-Time Employee                    100  John Holland Group   \n",
      "\n",
      "       Division (Code)          Division Subdivision (Code)  ... Placements  \\\n",
      "588574             RAL  Rail & Transport              RALPR  ...        NaN   \n",
      "588575            INFR    Infrastructure            INFRPRQ  ...        NaN   \n",
      "588577             RAL  Rail & Transport              RALSE  ...        NaN   \n",
      "588578             RAL  Rail & Transport              RALSE  ...        NaN   \n",
      "588580             RAL  Rail & Transport              RALSE  ...        NaN   \n",
      "\n",
      "                    BU Tenure (Group - Hire Date) Manager/No Manager  \\\n",
      "588574            Rail                   5-10 yrs        Non Manager   \n",
      "588575  Infrastructure                  10-15 yrs        Non Manager   \n",
      "588577            Rail                  10-15 yrs        Non Manager   \n",
      "588578            Rail                   2-5  yrs        Non Manager   \n",
      "588580            Rail                  10-15 yrs        Non Manager   \n",
      "\n",
      "       Critical / Core   Generation Diversity Question Job Level  \\\n",
      "588574        Critical  Baby Bommer                  6         5   \n",
      "588575        Critical    Millenial                  7         5   \n",
      "588577        Critical    Millenial                  4         5   \n",
      "588578    Non critical    Millenial                  6         6   \n",
      "588580        Critical    Millenial                  6         5   \n",
      "\n",
      "       Department (PM)  year  \n",
      "588574         No Move  2024  \n",
      "588575         No Move  2024  \n",
      "588577         No Move  2024  \n",
      "588578         No Move  2024  \n",
      "588580         No Move  2024  \n",
      "\n",
      "[5 rows x 40 columns]\n",
      "5955\n"
     ]
    }
   ],
   "source": [
    "print(active_2024.head())\n",
    "print(active_2024.shape[0])"
   ]
  },
  {
   "cell_type": "code",
   "execution_count": 43,
   "metadata": {},
   "outputs": [
    {
     "name": "stdout",
     "output_type": "stream",
     "text": [
      "   Event Date Event Month  Person ID Gender Employee Status (Picklist Label)  \\\n",
      "0  18/10/2018  31/10/2018       7417      M                           Active   \n",
      "1  17/03/2020  31/03/2020       7417      M                           Active   \n",
      "2  28/03/2020  31/03/2020       7417      M                           Active   \n",
      "3  15/06/2020  30/06/2020       7417      M                           Active   \n",
      "4  23/07/2020  31/07/2020       7417      M                           Active   \n",
      "5  30/07/2020  31/07/2020       7417      M                           Active   \n",
      "6  10/08/2020  31/08/2020       7417      M                           Active   \n",
      "7  31/08/2020  31/08/2020       7417      M                           Active   \n",
      "8  28/10/2021  31/10/2021       7417      M                           Active   \n",
      "9  18/10/2018  31/10/2018       8129      M                           Active   \n",
      "\n",
      "  Employee Class (Picklist Label) Employment Type (Picklist Label)  \\\n",
      "0                           Staff               Full-Time Employee   \n",
      "1                           Staff               Full-Time Employee   \n",
      "2                           Staff               Full-Time Employee   \n",
      "3                           Staff               Full-Time Employee   \n",
      "4                           Staff               Full-Time Employee   \n",
      "5                           Staff               Full-Time Employee   \n",
      "6                           Staff               Full-Time Employee   \n",
      "7                           Staff               Full-Time Employee   \n",
      "8                           Staff               Full-Time Employee   \n",
      "9                           Staff               Full-Time Employee   \n",
      "\n",
      "                 Division              Subdivision (Label)  \\\n",
      "0  Infrastructure NSW/ACT          NSW/ACT Region Projects   \n",
      "1  Infrastructure NSW/ACT          NSW/ACT Region Projects   \n",
      "2  Infrastructure NSW/ACT          NSW/ACT Region Projects   \n",
      "3  Infrastructure NSW/ACT          NSW/ACT Region Projects   \n",
      "4  Infrastructure NSW/ACT          NSW/ACT Region Projects   \n",
      "5  Infrastructure NSW/ACT          NSW/ACT Region Projects   \n",
      "6          Infrastructure  Infrastructure Projects NSW/ACT   \n",
      "7          Infrastructure  Infrastructure Projects NSW/ACT   \n",
      "8          Infrastructure  Infrastructure Projects NSW/ACT   \n",
      "9  Infrastructure NSW/ACT          NSW/ACT Region Projects   \n",
      "\n",
      "                                     Department Name  JH Job Family (Label)  \\\n",
      "0                Network & Facility Renewals Program  Frontline Supervision   \n",
      "1  Delivering for Customers (D4C) Unrecovered Pro...  Frontline Supervision   \n",
      "2  Delivering for Customers (D4C) Unrecovered Pro...  Frontline Supervision   \n",
      "3  Delivering for Customers (D4C) Unrecovered Pro...  Frontline Supervision   \n",
      "4  Delivering for Customers (D4C) Unrecovered Pro...  Frontline Supervision   \n",
      "5  Delivering for Customers (D4C) Unrecovered Pro...  Frontline Supervision   \n",
      "6  Delivering for Customers (D4C) Unrecovered Pro...  Frontline Supervision   \n",
      "7  Delivering for Customers (D4C) Unrecovered Pro...  Frontline Supervision   \n",
      "8  Delivering for Customers (D4C) Unrecovered Pro...  Frontline Supervision   \n",
      "9     Sydney Metro Stage 2 - Sydenham Junction Works            Engineering   \n",
      "\n",
      "  JH Position Title (Label)           External Title Supervisor ID  \\\n",
      "0            Superintendent           Superintendent         60620   \n",
      "1            Superintendent           Superintendent         57717   \n",
      "2            Superintendent           Superintendent        110497   \n",
      "3            Superintendent           Superintendent         57717   \n",
      "4            Superintendent           Superintendent        110497   \n",
      "5            Superintendent           Superintendent         87370   \n",
      "6            Superintendent           Superintendent        110497   \n",
      "7            Superintendent           Superintendent         87370   \n",
      "8            Superintendent           Superintendent         58577   \n",
      "9   Senior Project Engineer  Senior Project Engineer         24237   \n",
      "\n",
      "   Diversity Question  \n",
      "0                 NaN  \n",
      "1                 NaN  \n",
      "2                 NaN  \n",
      "3                 NaN  \n",
      "4                 NaN  \n",
      "5                 NaN  \n",
      "6                 NaN  \n",
      "7                 NaN  \n",
      "8                 NaN  \n",
      "9                 1.0  \n"
     ]
    }
   ],
   "source": [
    "manager_data = import_csv(\"Job_History_Manager_Change.csv\")\n",
    "print(manager_data.head(10))"
   ]
  },
  {
   "cell_type": "code",
   "execution_count": 46,
   "metadata": {},
   "outputs": [
    {
     "name": "stdout",
     "output_type": "stream",
     "text": [
      "<class 'pandas.core.frame.DataFrame'>\n",
      "RangeIndex: 55285 entries, 0 to 55284\n",
      "Data columns (total 15 columns):\n",
      " #   Column                            Non-Null Count  Dtype         \n",
      "---  ------                            --------------  -----         \n",
      " 0   Event Date                        55285 non-null  datetime64[ns]\n",
      " 1   Event Month                       55285 non-null  object        \n",
      " 2   Person ID                         55285 non-null  int64         \n",
      " 3   Gender                            53559 non-null  object        \n",
      " 4   Employee Status (Picklist Label)  55285 non-null  object        \n",
      " 5   Employee Class (Picklist Label)   55285 non-null  object        \n",
      " 6   Employment Type (Picklist Label)  55285 non-null  object        \n",
      " 7   Division                          55285 non-null  object        \n",
      " 8   Subdivision (Label)               55285 non-null  object        \n",
      " 9   Department Name                   55285 non-null  object        \n",
      " 10  JH Job Family (Label)             55285 non-null  object        \n",
      " 11  JH Position Title (Label)         55285 non-null  object        \n",
      " 12  External Title                    55285 non-null  object        \n",
      " 13  Supervisor ID                     55282 non-null  object        \n",
      " 14  Diversity Question                42947 non-null  float64       \n",
      "dtypes: datetime64[ns](1), float64(1), int64(1), object(12)\n",
      "memory usage: 6.3+ MB\n",
      "None\n"
     ]
    }
   ],
   "source": [
    "print(manager_data.info())"
   ]
  },
  {
   "cell_type": "code",
   "execution_count": 47,
   "metadata": {},
   "outputs": [
    {
     "name": "stdout",
     "output_type": "stream",
     "text": [
      "      Event Date Event Month  Person ID Gender  \\\n",
      "2287  2023-07-13  31/07/2023      27835      M   \n",
      "29998 2021-04-01  30/04/2021     111430      F   \n",
      "31585 2022-10-28  31/10/2022     112227      F   \n",
      "\n",
      "      Employee Status (Picklist Label) Employee Class (Picklist Label)  \\\n",
      "2287                            Active                           Staff   \n",
      "29998                           Active                           Staff   \n",
      "31585                       Terminated                           Staff   \n",
      "\n",
      "      Employment Type (Picklist Label)                     Division  \\\n",
      "2287                Full-Time Employee               Building Group   \n",
      "29998               Part-Time Employee               Infrastructure   \n",
      "31585               Full-Time Employee  Infrastructure VIC/SA & TAS   \n",
      "\n",
      "                      Subdivision (Label)                 Department Name  \\\n",
      "2287                   Building Overheads        Building Project Support   \n",
      "29998  Infrastructure Projects VIC/SA/TAS  North Western Program Alliance   \n",
      "31585               VIC/SA & TAS Projects  North Western Program Alliance   \n",
      "\n",
      "             JH Job Family (Label)              JH Position Title (Label)  \\\n",
      "2287   Project Delivery - Building             Design Director - Building   \n",
      "29998               Administration                  Project Administrator   \n",
      "31585               Administration  Administration Assistant/Receptionist   \n",
      "\n",
      "                       External Title Supervisor ID  Diversity Question  \n",
      "2287                  Design Director           NaN                 NaN  \n",
      "29998           Project Administrator           NaN                 NaN  \n",
      "31585  Program Services Administrator           NaN                 1.0  \n"
     ]
    }
   ],
   "source": [
    "# Filter rows where 'Supervisor ID' is null\n",
    "null_supervisor_id = manager_data[manager_data['Supervisor ID'].isnull()]\n",
    "\n",
    "# Print these rows\n",
    "print(null_supervisor_id)"
   ]
  },
  {
   "cell_type": "code",
   "execution_count": 44,
   "metadata": {},
   "outputs": [
    {
     "name": "stdout",
     "output_type": "stream",
     "text": [
      "   Event Date Event Month  Person ID Gender Employee Status (Picklist Label)  \\\n",
      "8  2021-10-28  31/10/2021       7417      M                           Active   \n",
      "17 2021-05-31  31/05/2021       8129      M                           Active   \n",
      "21 2020-08-22  31/08/2020      10009      M                           Active   \n",
      "29 2022-04-01  30/04/2022      10058      M                           Active   \n",
      "38 2023-11-01  30/11/2023      10066      M                           Active   \n",
      "50 2023-07-10  31/07/2023      10074      M                           Active   \n",
      "52 2019-07-05  31/07/2019      10076      M                           Active   \n",
      "65 2023-10-19  31/10/2023      10079      M                           Active   \n",
      "74 2024-01-11  31/01/2024      10087      M                           Active   \n",
      "78 2020-07-13  31/07/2020      10103      M                           Active   \n",
      "\n",
      "   Employee Class (Picklist Label) Employment Type (Picklist Label)  \\\n",
      "8                            Staff               Full-Time Employee   \n",
      "17                           Staff               Full-Time Employee   \n",
      "21                           Staff               Full-Time Employee   \n",
      "29                           Staff               Full-Time Employee   \n",
      "38                           Staff               Full-Time Employee   \n",
      "50                           Staff               Full-Time Employee   \n",
      "52                           Staff               Full-Time Employee   \n",
      "65                           Staff               Full-Time Employee   \n",
      "74                           Staff               Full-Time Employee   \n",
      "78                           Staff               Full-Time Employee   \n",
      "\n",
      "                                Division                 Subdivision (Label)  \\\n",
      "8                         Infrastructure     Infrastructure Projects NSW/ACT   \n",
      "17                        Infrastructure     Infrastructure Projects NSW/ACT   \n",
      "21                        Infrastructure     Infrastructure Projects NSW/ACT   \n",
      "29                        Major Projects            Major Projects Overheads   \n",
      "38  Information Communication Technology              Information Technology   \n",
      "50                        Infrastructure  Infrastructure Projects VIC/SA/TAS   \n",
      "52           Infrastructure VIC/SA & TAS               VIC/SA & TAS Projects   \n",
      "65                        Major Projects                      Major Projects   \n",
      "74                      Rail & Transport                       Rail Projects   \n",
      "78           Infrastructure VIC/SA & TAS               VIC/SA & TAS Projects   \n",
      "\n",
      "                                      Department Name  \\\n",
      "8   Delivering for Customers (D4C) Unrecovered Pro...   \n",
      "17     Sydney Metro Stage 2 - Sydenham Junction Works   \n",
      "21                         Waterloo ISD - Station D&C   \n",
      "29              Major Projects Energy Project Support   \n",
      "38                 Applications & Emerging Technology   \n",
      "50                  Sunshine Systems Alliance - Infra   \n",
      "52           Melbourne Water Capital Delivery Program   \n",
      "65                Rozelle Interchange (Westconnex 3B)   \n",
      "74                 Metro Tunnel Rail Network Alliance   \n",
      "78           Melbourne Water Capital Delivery Program   \n",
      "\n",
      "                      JH Job Family (Label) JH Position Title (Label)  \\\n",
      "8                     Frontline Supervision            Superintendent   \n",
      "17                              Engineering   Senior Project Engineer   \n",
      "21      Commercial, Contracts & Procurement        Commercial Manager   \n",
      "29                       Project Management           Project Manager   \n",
      "38                  IT - Project Management        IT Project Manager   \n",
      "50  Trades and Labour - Construction Trades    General Superintendent   \n",
      "52                    Frontline Supervision                Supervisor   \n",
      "65  Trades and Labour - Construction Trades    General Superintendent   \n",
      "74                  Project Delivery - Rail    Senior Project Manager   \n",
      "78                              Engineering   Senior Project Engineer   \n",
      "\n",
      "                External Title Supervisor ID  Diversity Question  \n",
      "8               Superintendent         58577                 NaN  \n",
      "17     Senior Project Engineer         59536                 1.0  \n",
      "21          Commercial Manager         43189                 NaN  \n",
      "29             Project Manager         88714                 2.0  \n",
      "38  Project IT Systems Manager        120604                 1.0  \n",
      "50              Superintendent         95354                 2.0  \n",
      "52                  Supervisor         93852                 NaN  \n",
      "65      General Superintendent         16053                 NaN  \n",
      "74      Senior Project Manager         23378                 NaN  \n",
      "78     Senior Project Engineer         15520                 NaN  \n"
     ]
    }
   ],
   "source": [
    "# Ensure 'event date' is datetime type\n",
    "manager_data['Event Date'] = pd.to_datetime(manager_data['Event Date'], format='%d/%m/%Y')\n",
    "\n",
    "# Get the index of the latest date for each 'person id'\n",
    "idx = manager_data.groupby('Person ID')['Event Date'].idxmax()\n",
    "\n",
    "# Select the rows with these indices\n",
    "latest_manager_data = manager_data.loc[idx]\n",
    "print(latest_manager_data.head(10))"
   ]
  },
  {
   "cell_type": "code",
   "execution_count": 49,
   "metadata": {},
   "outputs": [],
   "source": [
    "# Convert 'Person ID' columns to string\n",
    "active_2024.loc[:, 'Person ID'] = active_2024['Person ID'].astype(str)\n",
    "latest_manager_data.loc[:, 'Person ID'] = latest_manager_data['Person ID'].astype(str)\n",
    "\n",
    "# Merge active_2024 and latest_manager_data on 'Person ID'\n",
    "merged_2024 = active_2024.merge(latest_manager_data[['Person ID', 'Supervisor ID']], on='Person ID', how='left')"
   ]
  },
  {
   "cell_type": "code",
   "execution_count": 51,
   "metadata": {},
   "outputs": [
    {
     "name": "stdout",
     "output_type": "stream",
     "text": [
      "<class 'pandas.core.frame.DataFrame'>\n",
      "RangeIndex: 5955 entries, 0 to 5954\n",
      "Data columns (total 41 columns):\n",
      " #   Column                                 Non-Null Count  Dtype         \n",
      "---  ------                                 --------------  -----         \n",
      " 0   Reporting Date                         5955 non-null   datetime64[ns]\n",
      " 1   Person ID                              5955 non-null   object        \n",
      " 2   Employee Status                        5955 non-null   object        \n",
      " 3   Employee Class                         5955 non-null   object        \n",
      " 4   Employment Type                        5955 non-null   object        \n",
      " 5   Company (externalCode)                 5955 non-null   object        \n",
      " 6   Company (Label)                        5955 non-null   object        \n",
      " 7   Division (Code)                        5955 non-null   object        \n",
      " 8   Division                               5955 non-null   object        \n",
      " 9   Subdivision (Code)                     5955 non-null   object        \n",
      " 10  Subdivision (Label)                    5955 non-null   object        \n",
      " 11  Department (Code)                      5955 non-null   object        \n",
      " 12  Department                             5955 non-null   object        \n",
      " 13  JH Job Family (externalCode)           5955 non-null   object        \n",
      " 14  JH Job Family                          5955 non-null   object        \n",
      " 15  JH Position Title (externalCode)       5955 non-null   object        \n",
      " 16  JH Position Title                      5955 non-null   object        \n",
      " 17  External Title                         5955 non-null   object        \n",
      " 18  Original Start Date                    5955 non-null   object        \n",
      " 19  Hire Date                              5955 non-null   object        \n",
      " 20  Last Day of Service                    34 non-null     object        \n",
      " 21  Sub Termination Reason (externalCode)  308 non-null    object        \n",
      " 22  Sub Termination Reason (Label)         308 non-null    object        \n",
      " 23  Location Group (Name)                  5955 non-null   object        \n",
      " 24  RCM City                               5955 non-null   object        \n",
      " 25  RCM State (externalName)               5955 non-null   object        \n",
      " 26  RCM Country (Picklist Label)           5955 non-null   object        \n",
      " 27  Gender                                 5919 non-null   object        \n",
      " 28  Age (Group)                            5955 non-null   object        \n",
      " 29  Proj / OH                              5949 non-null   object        \n",
      " 30  Placements                             10 non-null     object        \n",
      " 31  BU                                     5955 non-null   object        \n",
      " 32  Tenure (Group - Hire Date)             5955 non-null   object        \n",
      " 33  Manager/No Manager                     5955 non-null   object        \n",
      " 34  Critical / Core                        5955 non-null   object        \n",
      " 35  Generation                             5955 non-null   object        \n",
      " 36  Diversity Question                     3340 non-null   object        \n",
      " 37  Job Level                              5955 non-null   object        \n",
      " 38  Department (PM)                        5955 non-null   object        \n",
      " 39  year                                   5955 non-null   int32         \n",
      " 40  Supervisor ID                          5934 non-null   object        \n",
      "dtypes: datetime64[ns](1), int32(1), object(39)\n",
      "memory usage: 1.8+ MB\n",
      "None\n"
     ]
    }
   ],
   "source": [
    "print(merged_2024.info())"
   ]
  },
  {
   "cell_type": "code",
   "execution_count": 52,
   "metadata": {},
   "outputs": [
    {
     "name": "stdout",
     "output_type": "stream",
     "text": [
      "  Reporting Date Person ID Employee Status Employee Class     Employment Type  \\\n",
      "0     2024-04-01     10390          Active          Staff  Full-Time Employee   \n",
      "1     2024-04-01     10833          Active          Staff  Full-Time Employee   \n",
      "2     2024-04-01     11586          Active          Staff  Full-Time Employee   \n",
      "3     2024-04-01     11587          Active          Staff  Full-Time Employee   \n",
      "4     2024-04-01     12182          Active          Staff  Full-Time Employee   \n",
      "5     2024-04-01     12189          Active          Staff  Full-Time Employee   \n",
      "6     2024-04-01     12276          Active          Staff  Full-Time Employee   \n",
      "7     2024-04-01     12355          Active          Staff  Full-Time Employee   \n",
      "8     2024-04-01     14334          Active          Staff  Full-Time Employee   \n",
      "9     2024-04-01     14775          Active          Staff  Full-Time Employee   \n",
      "\n",
      "  Company (externalCode)     Company (Label) Division (Code)  \\\n",
      "0                    100  John Holland Group             RAL   \n",
      "1                    100  John Holland Group            INFR   \n",
      "2                    100  John Holland Group             RAL   \n",
      "3                    100  John Holland Group             RAL   \n",
      "4                    100  John Holland Group             RAL   \n",
      "5                    100  John Holland Group             RAL   \n",
      "6                    100  John Holland Group             RAL   \n",
      "7                    100  John Holland Group             RAL   \n",
      "8                    100  John Holland Group             RAL   \n",
      "9                    100  John Holland Group             MAP   \n",
      "\n",
      "           Division Subdivision (Code)  ...              BU  \\\n",
      "0  Rail & Transport              RALPR  ...            Rail   \n",
      "1    Infrastructure            INFRPRQ  ...  Infrastructure   \n",
      "2  Rail & Transport              RALSE  ...            Rail   \n",
      "3  Rail & Transport              RALSE  ...            Rail   \n",
      "4  Rail & Transport              RALSE  ...            Rail   \n",
      "5  Rail & Transport              RALSE  ...            Rail   \n",
      "6  Rail & Transport              RALPR  ...            Rail   \n",
      "7  Rail & Transport              RALPR  ...            Rail   \n",
      "8  Rail & Transport              RALSE  ...            Rail   \n",
      "9    Major Projects             MAPPRS  ...  Major Projects   \n",
      "\n",
      "  Tenure (Group - Hire Date) Manager/No Manager Critical / Core   Generation  \\\n",
      "0                   5-10 yrs        Non Manager        Critical  Baby Bommer   \n",
      "1                  10-15 yrs        Non Manager        Critical    Millenial   \n",
      "2                  10-15 yrs        Non Manager        Critical    Millenial   \n",
      "3                   2-5  yrs        Non Manager    Non critical    Millenial   \n",
      "4                  10-15 yrs        Non Manager        Critical    Millenial   \n",
      "5                   5-10 yrs        Non Manager    Non critical        Gen X   \n",
      "6                  10-15 yrs        Non Manager        Critical    Millenial   \n",
      "7                  10-15 yrs            Manager        Critical    Millenial   \n",
      "8                  10-15 yrs            Manager    Non critical    Millenial   \n",
      "9                   5-10 yrs            Manager    Non critical        Gen X   \n",
      "\n",
      "  Diversity Question Job Level Department (PM)  year Supervisor ID  \n",
      "0                  6         5         No Move  2024         60209  \n",
      "1                  7         5         No Move  2024        119787  \n",
      "2                  4         5         No Move  2024         90261  \n",
      "3                  6         6         No Move  2024         90261  \n",
      "4                  6         5         No Move  2024         90261  \n",
      "5                  7         6         No Move  2024         90261  \n",
      "6                  7         4         No Move  2024         30839  \n",
      "7                  6         6         No Move  2024         23378  \n",
      "8                  6         6         No Move  2024        111274  \n",
      "9                  7         5         No Move  2024        119813  \n",
      "\n",
      "[10 rows x 41 columns]\n"
     ]
    }
   ],
   "source": [
    "print(merged_2024.head(10))"
   ]
  },
  {
   "cell_type": "code",
   "execution_count": 57,
   "metadata": {},
   "outputs": [
    {
     "name": "stdout",
     "output_type": "stream",
     "text": [
      "    Event Date Event Month Person ID Gender Employee Status (Picklist Label)  \\\n",
      "135 2021-08-09  31/08/2021     10390      M                           Active   \n",
      "\n",
      "    Employee Class (Picklist Label) Employment Type (Picklist Label)  \\\n",
      "135                           Staff               Full-Time Employee   \n",
      "\n",
      "           Division                 Subdivision (Label)  \\\n",
      "135  Infrastructure  Infrastructure Projects VIC/SA/TAS   \n",
      "\n",
      "                               Department Name JH Job Family (Label)  \\\n",
      "135  Metro Tunnel Rail Infrastructure Alliance    Technical & Design   \n",
      "\n",
      "    JH Position Title (Label)  External Title Supervisor ID  \\\n",
      "135            Senior Planner  Senior Planner         60209   \n",
      "\n",
      "     Diversity Question  \n",
      "135                 1.0  \n"
     ]
    }
   ],
   "source": [
    "# Verify rows where 'Person ID' is '10390'\n",
    "person_id_10390 = latest_manager_data[latest_manager_data['Person ID'] == '10390']\n",
    "print(person_id_10390)"
   ]
  },
  {
   "cell_type": "markdown",
   "metadata": {},
   "source": [
    "## 2. Exploratory Data Analysis"
   ]
  },
  {
   "cell_type": "code",
   "execution_count": null,
   "metadata": {},
   "outputs": [],
   "source": []
  },
  {
   "cell_type": "markdown",
   "metadata": {},
   "source": [
    "## 3. Social Network Analysis"
   ]
  },
  {
   "cell_type": "code",
   "execution_count": null,
   "metadata": {},
   "outputs": [],
   "source": []
  }
 ],
 "metadata": {
  "kernelspec": {
   "display_name": "base",
   "language": "python",
   "name": "python3"
  },
  "language_info": {
   "codemirror_mode": {
    "name": "ipython",
    "version": 3
   },
   "file_extension": ".py",
   "mimetype": "text/x-python",
   "name": "python",
   "nbconvert_exporter": "python",
   "pygments_lexer": "ipython3",
   "version": "3.11.9"
  }
 },
 "nbformat": 4,
 "nbformat_minor": 2
}
